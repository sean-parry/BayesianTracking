{
 "cells": [
  {
   "cell_type": "code",
   "execution_count": 1,
   "metadata": {},
   "outputs": [],
   "source": [
    "%%capture output\n",
    "%pip install numpy\n",
    "%pip install matplotlib"
   ]
  },
  {
   "cell_type": "markdown",
   "metadata": {},
   "source": [
    "The description of the 2d problem is very limited, im going to assume we do weighted resampling, ans use the basically alg 1 of the other paper form green maskell"
   ]
  },
  {
   "cell_type": "code",
   "execution_count": 108,
   "metadata": {},
   "outputs": [
    {
     "name": "stdout",
     "output_type": "stream",
     "text": [
      "the length of y_guess is: 100\n",
      "the number of resamples was 100\n"
     ]
    }
   ],
   "source": [
    "import numpy as np\n",
    "import matplotlib.pyplot as plt\n",
    "\n",
    "def bivar_normal_p(sample, mean, covar):\n",
    "    x_minus_mean = np.subtract(sample,mean)\n",
    "    temp1 = np.dot(x_minus_mean.T,np.linalg.inv(covar))\n",
    "    temp2 = np.dot(temp1,x_minus_mean)\n",
    "    n = len(sample)\n",
    "    k = (((2*np.pi)**(n/2))*((np.linalg.det(covar))**(1/2)))**-1\n",
    "    return k*(np.e**(-0.5*temp2))\n",
    "\n",
    "def target_dist_prob(sample):\n",
    "    \"returns how close a sample is to target dist\"\n",
    "    return bivar_normal_p(sample,[3,2],np.eye(2))\n",
    "\n",
    "def initial_proposal_prob(sample):\n",
    "    return bivar_normal_p(sample,[0,0],np.eye(2))\n",
    "\n",
    "def initial_proposal(n):\n",
    "    return np.random.randn(n,2)\n",
    "\n",
    "def get_neff(weights):\n",
    "    sum_w_squared = 0\n",
    "    for w in weights:\n",
    "        sum_w_squared +=  w**2\n",
    "    return 1/sum_w_squared\n",
    "\n",
    "def optimal_l_kernel():\n",
    "    return\n",
    "\n",
    "def forward_proposal_l_kernel():\n",
    "    return\n",
    "\n",
    "def forward_proposal_prob(theta,theta_hat, covar):\n",
    "    return bivar_normal_p(theta_hat,theta,covar)\n",
    "\n",
    "def get_initial_weights(samples):\n",
    "    return [target_dist_prob(s)/initial_proposal_prob(s) for s in samples]\n",
    "\n",
    "def normalise_weights(weights):\n",
    "    return weights/sum(weights)\n",
    "\n",
    "def get_lk(weights):\n",
    "    weights_squared = np.multiply(weights,weights)\n",
    "    return sum(weights)**2/sum(weights_squared)\n",
    "\n",
    "\n",
    "def get_ck_opt_arr(weights_arr):\n",
    "    ck = []\n",
    "    for weights in weights_arr:\n",
    "        ck.append(get_lk(weights))\n",
    "    # normalise and return\n",
    "    return ck/sum(ck)\n",
    "        \n",
    "\n",
    "def get_y_guess_with_ck(samples_arr,weights_arr)->list[float]:\n",
    "    estimate = [0,0]\n",
    "    ck_arr = get_ck_opt_arr(weights_arr)\n",
    "    for samples, weights, ck in zip(samples_arr,weights_arr,ck_arr):\n",
    "        for sample,weight in zip(samples, weights):\n",
    "            estimate += weight * sample * ck\n",
    "    return estimate\n",
    "\n",
    "def normal_y_guess(samples,weights):\n",
    "    y1,y2 = 0,0\n",
    "    for w,s in zip(weights, samples):\n",
    "        s1,s2 = s\n",
    "        y1+=w*s1\n",
    "        y2+=w*s2\n",
    "    return y1,y2\n",
    "\n",
    "\n",
    "def reset_weights(n):\n",
    "    return [1/n]*n          \n",
    "\n",
    "def weighted_resample(samples,weights):\n",
    "    index = np.arange(0,len(samples))\n",
    "    sample_index = np.random.choice(index,len(index),p=weights)\n",
    "    return [samples[si] for si in sample_index]\n",
    "\n",
    "def forward_proposal(samples,covar_mat):\n",
    "    samples = np.array(samples)\n",
    "    var = covar_mat[0][0]\n",
    "    return samples+np.random.randn(len(samples),len(samples[0]))*var\n",
    "\n",
    "def new_weights_opt(weights, theta_arr, theta_hat_arr, covar):\n",
    "    \"\"\"gets the new weights using the optimal l kernel\"\"\"\n",
    "    new_weights = []\n",
    "    for w, theta, theta_hat in zip(weights,theta_arr, theta_hat_arr):\n",
    "        targ_ratio = target_dist_prob(theta_hat)/target_dist_prob(theta)\n",
    "        l_kern_proposal_ratio = 1 #optimal_l_kernel()/(forward_proposal_prob(theta,theta_hat,covar))\n",
    "        new_weights.append(targ_ratio*l_kern_proposal_ratio*w)\n",
    "\n",
    "    return new_weights\n",
    "\n",
    "\n",
    "n = 500\n",
    "t_total, t = 101, 1\n",
    "samples, weights, y_guess = [], [], []\n",
    "samples.append(initial_proposal(n))\n",
    "weights.append(get_initial_weights(samples[-1]))\n",
    "proposal_covar_mat = np.eye(2)\n",
    "resample_count = 0\n",
    "\n",
    "while t<t_total:\n",
    "    weights[-1] = normalise_weights(weights[-1])\n",
    "    y_guess.append(get_y_guess_with_ck(samples,weights))\n",
    "    neff = get_neff(weights[-1])\n",
    "    if neff<(n/2):\n",
    "        samples[-1] = weighted_resample(samples[-1], weights[-1])\n",
    "        weights[-1] = reset_weights(n)\n",
    "        resample_count+=1\n",
    "    t += 1\n",
    "    samples.append(forward_proposal(samples[-1],proposal_covar_mat))\n",
    "    weights.append(new_weights_opt(weights[-1],samples[-2], samples[-1],proposal_covar_mat))\n",
    "\n",
    "weights[-1] = normalise_weights(weights[-1])\n",
    "print(f'the length of y_guess is: {len(y_guess)}')\n",
    "print(f'the number of resamples was {resample_count}')"
   ]
  },
  {
   "cell_type": "markdown",
   "metadata": {},
   "source": [
    "## Plotting y_guess for x1 x2"
   ]
  },
  {
   "cell_type": "code",
   "execution_count": 109,
   "metadata": {},
   "outputs": [
    {
     "data": {
      "image/png": "[encoded data removed]",
      "text/plain": [
       "<Figure size 640x480 with 2 Axes>"
      ]
     },
     "metadata": {},
     "output_type": "display_data"
    }
   ],
   "source": [
    "y_guess = np.array(y_guess)\n",
    "\n",
    "fig, ax = plt.subplots(2)\n",
    "ax[0].plot(y_guess[:,0])\n",
    "ax[1].plot(y_guess[:,1])\n",
    "ax[0].plot([0,t_total],[3,3])\n",
    "ax[1].plot([0,t_total],[2,2])\n",
    "ax[0].set_ylabel('x1')\n",
    "ax[1].set_ylabel('x2')\n",
    "plt.show()"
   ]
  },
  {
   "cell_type": "markdown",
   "metadata": {},
   "source": [
    "read the paper, the number of samples were 500 not 100, now we resample every step which is preferable."
   ]
  },
  {
   "cell_type": "markdown",
   "metadata": {},
   "source": [
    "* working for non optimal l kernel although resampling doesn't occur every iteration unlike in the paper\n",
    "* so possibly something is wrong with the maths of the resampling like maybe defensive sampling is used i could check their code i guess\n",
    "* also its common for the alg to be 0.1 off of the actual value in y_guess with ckopt, maybe i should check this against a sliding window average bc my maths is probably wrong for ckopt\n",
    "* also should check the bivar gaussian is written correctly and write the optimal l kernel part of the code which isn't done yet\n",
    "* also i should make this so you can pass in the funciton name that you use for the l_kernel - optimal or suboptimal, would be nice to do them both in parallel, but probably easier to split them into two seperate loops and just reuse the functions"
   ]
  }
 ],
 "metadata": {
  "kernelspec": {
   "display_name": ".venv",
   "language": "python",
   "name": "python3"
  },
  "language_info": {
   "codemirror_mode": {
    "name": "ipython",
    "version": 3
   },
   "file_extension": ".py",
   "mimetype": "text/x-python",
   "name": "python",
   "nbconvert_exporter": "python",
   "pygments_lexer": "ipython3",
   "version": "3.11.5"
  }
 },
 "nbformat": 4,
 "nbformat_minor": 2
}
