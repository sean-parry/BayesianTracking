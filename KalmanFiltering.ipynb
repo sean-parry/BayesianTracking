{
 "cells": [
  {
   "cell_type": "code",
   "execution_count": 5,
   "metadata": {},
   "outputs": [],
   "source": [
    "%%capture clear\n",
    "%pip install numpy\n",
    "%pip install matplotlib"
   ]
  },
  {
   "cell_type": "code",
   "execution_count": 4,
   "metadata": {},
   "outputs": [],
   "source": [
    "import numpy as np\n",
    "import matplotlib.pyplot as plt"
   ]
  },
  {
   "cell_type": "code",
   "execution_count": null,
   "metadata": {},
   "outputs": [],
   "source": [
    "x_axis = np.arange(-2,10,0.01)"
   ]
  },
  {
   "cell_type": "markdown",
   "metadata": {},
   "source": [
    "# Kalman Filtering\n",
    "\n",
    "* so we need to choose some noise say of covar 0.01 for both observation and target\n",
    "* lets also choose to do a system with two variables x1 and x2\n",
    "* ~~ lets also choose the dynamics of the system to be just a linear system say 0.5,0.5 ~~\n",
    "* timesteps of one second\n",
    "* we're also making all matricies and noise time invariant / constants to save some time"
   ]
  },
  {
   "cell_type": "code",
   "execution_count": 54,
   "metadata": {},
   "outputs": [
    {
     "name": "stdout",
     "output_type": "stream",
     "text": [
      "[array([1.00221346, 1.00000125])]\n",
      "[[0.5        0.5       ]\n",
      " [0.98970312 0.50661063]\n",
      " [1.49197103 0.51021059]\n",
      " [2.00255312 0.5197938 ]\n",
      " [2.52166127 0.52248315]\n",
      " [3.04686209 0.52090321]\n",
      " [3.57016407 0.53667642]\n",
      " [4.10130766 0.52302346]\n",
      " [4.61532726 0.52924601]\n",
      " [5.15137394 0.54318521]\n",
      " [5.71416267 0.56309817]]\n"
     ]
    }
   ],
   "source": [
    "# just gives our random vars for v and n sampled form standard norm\n",
    "#(then divided to make smaller)\n",
    "def v_func()->list[float]:\n",
    "    return (np.random.randn(2)/100)\n",
    "def n_func()->list[float]:\n",
    "    return (np.random.randn(2)/100)\n",
    "\n",
    "def update_target(F : list[list[float]],\n",
    "       X : list[list[float]]\n",
    "       ) -> list[float]:\n",
    "    return (np.linalg.matmul(F,X[-1])+v_func())\n",
    "\n",
    "def update_observation(H : list[list[float]],\n",
    "                       X : list[list[float]]\n",
    "                       ) -> list[float]:\n",
    "    return np.matmul(H,X[-1])+n_func()\n",
    "\n",
    "\n",
    "time_step = np.arange(0,10.1,1)\n",
    "# define the dynamics of the system\n",
    "f_matrix = [[1,1],\n",
    "            [0,1]]\n",
    "# define the target matrix and its inistial positions\n",
    "target = [[0.5,0.5]]\n",
    "\n",
    "# to begin with lets have observations just be double the target\n",
    "# and have that be our observation\n",
    "h_matrix = [[2,0],\n",
    "            [0,2]]\n",
    "observations = []\n",
    "\n",
    "observations += [update_observation(h_matrix,target)]\n",
    "print(observations)\n",
    "\n",
    "\n",
    "for time in time_step:\n",
    "    if not time:\n",
    "        continue\n",
    "    target += [update_target(f_matrix,target)]\n",
    "\n",
    "print(np.array(target))"
   ]
  },
  {
   "cell_type": "code",
   "execution_count": null,
   "metadata": {},
   "outputs": [],
   "source": [
    "# this will be a mean and a covar value for each timestep\n",
    "prediction = []\n",
    "\n",
    "for time in time_step:\n",
    "    # basically target at timestep 0 is already defined so skip\n",
    "    # in this case but no other case\n",
    "    if time:\n",
    "        target+=update_target\n",
    "    m\n",
    "    "
   ]
  }
 ],
 "metadata": {
  "kernelspec": {
   "display_name": ".venv",
   "language": "python",
   "name": "python3"
  },
  "language_info": {
   "codemirror_mode": {
    "name": "ipython",
    "version": 3
   },
   "file_extension": ".py",
   "mimetype": "text/x-python",
   "name": "python",
   "nbconvert_exporter": "python",
   "pygments_lexer": "ipython3",
   "version": "3.12.3"
  }
 },
 "nbformat": 4,
 "nbformat_minor": 2
}
