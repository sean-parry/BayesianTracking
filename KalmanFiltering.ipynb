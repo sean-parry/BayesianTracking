{
 "cells": [
  {
   "cell_type": "markdown",
   "metadata": {},
   "source": [
    "trying to do kalman filtering just from simon's paper"
   ]
  },
  {
   "cell_type": "code",
   "execution_count": 5,
   "metadata": {},
   "outputs": [],
   "source": [
    "%%capture clear\n",
    "%pip install numpy\n",
    "%pip install matplotlib"
   ]
  },
  {
   "cell_type": "code",
   "execution_count": 4,
   "metadata": {},
   "outputs": [],
   "source": [
    "import numpy as np\n",
    "import matplotlib.pyplot as plt"
   ]
  },
  {
   "cell_type": "code",
   "execution_count": null,
   "metadata": {},
   "outputs": [],
   "source": [
    "x_axis = np.arange(-2,10,0.01)"
   ]
  },
  {
   "cell_type": "markdown",
   "metadata": {},
   "source": [
    "# Kalman Filtering\n",
    "\n",
    "* so we need to choose some noise say of covar 0.01 for both observation and target\n",
    "* lets also choose to do a system with two variables x1 and x2\n",
    "* ~~ lets also choose the dynamics of the system to be just a linear system say 0.5,0.5 ~~\n",
    "* timesteps of one second\n",
    "* we're also making all matricies and noise time invariant / constants to save some time"
   ]
  },
  {
   "cell_type": "code",
   "execution_count": 64,
   "metadata": {},
   "outputs": [
    {
     "name": "stdout",
     "output_type": "stream",
     "text": [
      "[array([0.98938826, 0.98938826])]\n",
      "[[0.5        0.5       ]\n",
      " [1.0830575  0.5830575 ]\n",
      " [1.71074196 0.62768446]\n",
      " [2.27137138 0.56062942]\n",
      " [2.99051321 0.71914184]\n",
      " [3.69901378 0.70850057]\n",
      " [4.47422528 0.7752115 ]\n",
      " [5.10120698 0.6269817 ]\n",
      " [5.73586228 0.6346553 ]\n",
      " [6.50002804 0.76416575]\n",
      " [7.2942907  0.79426266]]\n"
     ]
    }
   ],
   "source": [
    "# just gives our random vars for v and n sampled form standard norm\n",
    "#(then divided to make smaller)\n",
    "covar_q = [0.01,0.1 ]# this could vary in time in this case it doesn't\n",
    "covar_r = [0.01, 0.01] # same with this one\n",
    "def v_func()->list[float]:\n",
    "    return (np.linalg.matmul(np.random.randn(2),covar_q))\n",
    "def n_func()->list[float]:\n",
    "    return (np.linalg.matmul(np.random.randn(2),covar_r))\n",
    "\n",
    "def update_target(F : list[list[float]],\n",
    "       X : list[list[float]]\n",
    "       ) -> list[float]:\n",
    "    return (np.linalg.matmul(F,X[-1])+v_func())\n",
    "\n",
    "def update_observation(H : list[list[float]],\n",
    "                       X : list[list[float]]\n",
    "                       ) -> list[float]:\n",
    "    return np.matmul(H,X[-1])+n_func()\n",
    "\n",
    "\n",
    "time_step = np.arange(0,10.1,1)\n",
    "# define the dynamics of the system\n",
    "f_matrix = [[1,1],\n",
    "            [0,1]]\n",
    "# define the target matrix and its inistial positions\n",
    "target = [[0.5,0.5]]\n",
    "\n",
    "# to begin with lets have observations just be double the target\n",
    "# and have that be our observation\n",
    "h_matrix = [[2,0],\n",
    "            [0,2]]\n",
    "observations = []\n",
    "\n",
    "observations += [update_observation(h_matrix,target)]\n",
    "print(observations)\n",
    "\n",
    "\n",
    "for time in time_step:\n",
    "    if not time:\n",
    "        continue\n",
    "    target += [update_target(f_matrix,target)]\n",
    "\n",
    "print(np.array(target))"
   ]
  },
  {
   "cell_type": "markdown",
   "metadata": {},
   "source": [
    "ok so going off of this equation\n",
    "\n",
    "![images](images/Screenshot%20from%202024-10-14%2013-07-51.png)\n",
    "\n",
    "**btw P is a covar value**\n",
    "\n",
    "to the best of my knowledge for covar_k-1|k-1 we would want to use a list covar_k|k and sample the value from the previous time step to get the value we want "
   ]
  },
  {
   "cell_type": "code",
   "execution_count": 108,
   "metadata": {},
   "outputs": [],
   "source": [
    "\n",
    "# this will be a mean x1,x2 and a covar value for each value for\n",
    "# each timestep\n",
    "prediction = []\n",
    "m_k_k1 = []\n",
    "\n",
    "covar_k_k1 = []\n",
    "# needs to be initialised idk what to though\n",
    "# only somehting that need to be initialised at k=0\n",
    "# for the maths to work should be initialised at k=0\n",
    "# I think anyway\n",
    "\n",
    "# giving the actual covar vals probably too low if anythin\n",
    "covar_k_k = [[0.01,0.01]]\n",
    "# just give the actual val at time 0 idk if, idk if this is the\n",
    "# right thing to do though\n",
    "m_k_k = [[0.5,0.5]] \n",
    "\n",
    "f_matrix = np.array(f_matrix) # so i can use .T\n",
    "h_matrix = np.array(h_matrix) # so i can use .T\n",
    "\n",
    "\n",
    "# k1 is used to mean k-1\n",
    "# the underscore inbetween the two vars should be taken to mean\n",
    "# the pipe operator so given in stats\n",
    "target += [update_target(f_matrix, target)]\n",
    "observations += [update_observation(h_matrix,target)]\n",
    "\n",
    "m_k_k1 += [np.matmul(f_matrix,m_k_k[-1])]\n",
    "temp = np.linalg.matmul(f_matrix,covar_k_k[-1])\n",
    "covar_k_k1 += [covar_q + np.linalg.matmul(temp,f_matrix.T)]\n",
    "\n",
    "temp = np.linalg.matmul(h_matrix,covar_k_k1[-1])\n",
    "sk = np.linalg.matmul(temp,h_matrix.T)+covar_r\n",
    "temp = np.linalg.matmul(covar_k_k1,h_matrix.T)\n",
    "try:\n",
    "    sk_inv = np.linalg.inv(sk)\n",
    "    kalman_gain = np.linalg.matmul(temp,sk_inv)\n",
    "except:\n",
    "    kalman_gain = temp/sk\n",
    "\n",
    "temp = observations[-1] - np.linalg.matmul(h_matrix,m_k_k1[-1])\n",
    "m_k_k += [m_k_k1[-1] + np.linalg.matmul(kalman_gain,temp)]\n",
    "temp = np.linalg.matmul(kalman_gain,h_matrix)\n",
    "covar_k_k += [covar_k_k1 - np.linalg.matmul(temp[0],covar_k_k1[-1])]\n",
    "\n"
   ]
  },
  {
   "cell_type": "code",
   "execution_count": null,
   "metadata": {},
   "outputs": [],
   "source": [
    "\n",
    "for time in time_step:\n",
    "    # basically target at timestep 0 is already defined so skip\n",
    "    # in this case but no other case\n",
    "    if time:\n",
    "        target += [update_target()]\n",
    "    observations = []\n",
    "    "
   ]
  }
 ],
 "metadata": {
  "kernelspec": {
   "display_name": ".venv",
   "language": "python",
   "name": "python3"
  },
  "language_info": {
   "codemirror_mode": {
    "name": "ipython",
    "version": 3
   },
   "file_extension": ".py",
   "mimetype": "text/x-python",
   "name": "python",
   "nbconvert_exporter": "python",
   "pygments_lexer": "ipython3",
   "version": "3.12.3"
  }
 },
 "nbformat": 4,
 "nbformat_minor": 2
}
