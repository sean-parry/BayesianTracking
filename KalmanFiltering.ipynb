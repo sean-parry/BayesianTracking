{
 "cells": [
  {
   "cell_type": "markdown",
   "metadata": {},
   "source": [
    "trying to do kalman filtering just from simon's paper"
   ]
  },
  {
   "cell_type": "code",
   "execution_count": 5,
   "metadata": {},
   "outputs": [],
   "source": [
    "%%capture clear\n",
    "%pip install numpy\n",
    "%pip install matplotlib"
   ]
  },
  {
   "cell_type": "code",
   "execution_count": 4,
   "metadata": {},
   "outputs": [],
   "source": [
    "import numpy as np\n",
    "import matplotlib.pyplot as plt"
   ]
  },
  {
   "cell_type": "code",
   "execution_count": null,
   "metadata": {},
   "outputs": [],
   "source": [
    "x_axis = np.arange(-2,10,0.01)"
   ]
  },
  {
   "cell_type": "markdown",
   "metadata": {},
   "source": [
    "# Kalman Filtering\n",
    "\n",
    "* so we need to choose some noise say of covar 0.01 for both observation and target\n",
    "* lets also choose to do a system with two variables x1 and x2\n",
    "* ~~ lets also choose the dynamics of the system to be just a linear system say 0.5,0.5 ~~\n",
    "* timesteps of one second\n",
    "* we're also making all matricies and noise time invariant / constants to save some time"
   ]
  },
  {
   "cell_type": "code",
   "execution_count": 685,
   "metadata": {},
   "outputs": [],
   "source": [
    "# just gives our random vars for v and n sampled form standard norm\n",
    "#(then divided to make smaller)\n",
    "covar_q = np.array([0.1,0.1])# this could vary in time in this case it doesn't\n",
    "covar_r = np.array([0.1,0.1]) # same with this one\n",
    "def v_func()->list[float]:\n",
    "    return np.multiply(np.random.randn(2),covar_q)\n",
    "def n_func()->list[float]:\n",
    "    return np.multiply(np.random.randn(2),covar_r)\n",
    "\n",
    "def update_target(F : list[list[float]],\n",
    "       X : list[list[float]]\n",
    "       ) -> list[float]:\n",
    "    return (np.linalg.matmul(F,X[-1])+v_func())\n",
    "\n",
    "def update_observation(H : list[list[float]],\n",
    "                       X : list[list[float]]\n",
    "                       ) -> list[float]:\n",
    "    return np.matmul(H,X[-1])+n_func()\n"
   ]
  },
  {
   "cell_type": "markdown",
   "metadata": {},
   "source": [
    "ok so going off of this equation\n",
    "\n",
    "![images](images/Screenshot%20from%202024-10-14%2013-07-51.png)\n",
    "\n",
    "**btw P is a covar value**\n",
    "\n",
    "to the best of my knowledge for covar_k-1|k-1 we would want to use a list covar_k|k and sample the value from the previous time step to get the value we want "
   ]
  },
  {
   "cell_type": "code",
   "execution_count": 823,
   "metadata": {},
   "outputs": [
    {
     "name": "stdout",
     "output_type": "stream",
     "text": [
      "[1, 2]:[1, 2]:[[1. 0.]\n",
      " [0. 1.]]\n",
      "[4.02781237 1.96322967]:[3.97371919 1.88688688]:[[0.09166667 0.09166667]\n",
      " [0.09166667 0.09166667]]\n",
      "[10.0504883   1.86428778]:[10.14104749  1.88963844]:[[0.05 0.05]\n",
      " [0.05 0.05]]\n",
      "[21.93942003  1.7963459 ]:[21.81175783  1.75117492]:[[0.05 0.05]\n",
      " [0.05 0.05]]\n",
      "[45.74365095  1.7076567 ]:[45.69937331  1.82067478]:[[0.05 0.05]\n",
      " [0.05 0.05]]\n",
      "[93.07522513  1.87219755]:[92.9875886   1.78258053]:[[0.05 0.05]\n",
      " [0.05 0.05]]\n",
      "[188.19944198   1.77705625]:[188.23796388   1.86126758]:[[0.05 0.05]\n",
      " [0.05 0.05]]\n"
     ]
    }
   ],
   "source": [
    "# just gives our random vars for v and n sampled form standard norm\n",
    "#(then divided to make smaller)\n",
    "covar_q = np.array([0.1,0.1])# this could vary in time in this case it doesn't\n",
    "covar_r = np.array([0.1,0.1]) # same with this one\n",
    "def v_func()->list[float]:\n",
    "    return np.multiply(np.random.randn(2),covar_q)\n",
    "def n_func()->list[float]:\n",
    "    return np.multiply(np.random.randn(2),covar_r)\n",
    "\n",
    "def update_target(F : list[list[float]],\n",
    "       X : list[list[float]]\n",
    "       ) -> list[float]:\n",
    "    return (np.linalg.matmul(F,X[-1])+v_func())\n",
    "\n",
    "def update_observation(H : list[list[float]],\n",
    "                       X : list[list[float]]\n",
    "                       ) -> list[float]:\n",
    "    return np.matmul(H,X[-1])+n_func()\n",
    "\n",
    "def main():\n",
    "    time_step = np.arange(0,7,1)\n",
    "    # define the dynamics of the system\n",
    "    f_matrix = [[2,1],\n",
    "                [0,1]]\n",
    "    # define the target matrix and its inistial positions\n",
    "    target = [[1,2]]\n",
    "\n",
    "    # to begin with lets have observations just be double the target\n",
    "    # and have that be our observation\n",
    "    h_matrix = [[1,0],\n",
    "                [0,1]]\n",
    "    # just giving dummy vars to observations so that\n",
    "    # its synced with the timestep of targets index 1 is timestep\n",
    "    # one in both\n",
    "    observations = [[0,0]]\n",
    "\n",
    "\n",
    "    # this will be a mean x1,x2 and a covar value for each value for\n",
    "    # each timestep\n",
    "    m_k_k1 = []\n",
    "    covar_k_k1 = []\n",
    "    # needs to be initialised idk what to though\n",
    "    # only somehting that need to be initialised at k=0\n",
    "    # for the maths to work should be initialised at k=0\n",
    "    # I think anyway\n",
    "\n",
    "    # giving the actual covar vals probably too low if anythin\n",
    "    covar_k_k = [np.eye(2)]\n",
    "    # just give the actual val at time 0 idk if, idk if this is the\n",
    "    # right thing to do though\n",
    "    m_k_k = [target[0]] \n",
    "\n",
    "    f_matrix = np.array(f_matrix) # so i can use .T\n",
    "    h_matrix = np.array(h_matrix) # so i can use .T\n",
    "\n",
    "    # k1 is used to mean k-1\n",
    "    # the underscore inbetween the two vars should be taken to mean\n",
    "    # the pipe operator so given in stats\n",
    "\n",
    "    for time in time_step[1:]:\n",
    "        target += [update_target(f_matrix,target)]\n",
    "        observations += [update_observation(h_matrix,target)]\n",
    "\n",
    "        m_k_k1 += [np.dot(f_matrix,m_k_k[-1])]\n",
    "        temp = np.dot(f_matrix,covar_k_k[-1])\n",
    "        covar_k_k1 += [covar_q + np.linalg.matmul(temp,f_matrix.T)]\n",
    "\n",
    "        temp = np.dot(h_matrix,np.array(covar_k_k1[-1]))\n",
    "        sk = np.dot(temp,h_matrix.T) +covar_r\n",
    "        temp = np.dot(covar_k_k1[-1],h_matrix.T)\n",
    "        sk_inv = np.linalg.inv(sk)\n",
    "        kalman_gain = np.dot(temp,sk_inv)\n",
    "\n",
    "        temp = observations[-1] - np.dot(h_matrix,m_k_k1[-1])\n",
    "        m_k_k += [m_k_k1[-1] + np.dot(kalman_gain,temp)]\n",
    "        temp = np.dot(kalman_gain,h_matrix)\n",
    "        covar_k_k += [covar_k_k1[-1] - np.dot(temp,covar_k_k1[-1])]\n",
    "\n",
    "\n",
    "    for x,m,o,ck in zip(target,m_k_k,observations,covar_k_k):\n",
    "        print(f'{x}:{m}:{ck}')\n",
    "    return\n",
    "\n",
    "if __name__ == '__main__':\n",
    "    main()\n"
   ]
  },
  {
   "cell_type": "markdown",
   "metadata": {},
   "source": [
    "working now\n",
    "# takeaways\n",
    "* never use np.matmul use np.dot, np.matmul is for repeated addition so its for constant, matrix operations if you have two vectors you **need** to use np.dot otherwise you just get the wrong answer\n",
    "* also multivariate tracking means means multivariate covars why didn't i notice this????? if you have 2 vars you have a 2*2 covariance matrix for each point\n"
   ]
  }
 ],
 "metadata": {
  "kernelspec": {
   "display_name": ".venv",
   "language": "python",
   "name": "python3"
  },
  "language_info": {
   "codemirror_mode": {
    "name": "ipython",
    "version": 3
   },
   "file_extension": ".py",
   "mimetype": "text/x-python",
   "name": "python",
   "nbconvert_exporter": "python",
   "pygments_lexer": "ipython3",
   "version": "3.12.3"
  }
 },
 "nbformat": 4,
 "nbformat_minor": 2
}
