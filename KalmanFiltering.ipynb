{
 "cells": [
  {
   "cell_type": "markdown",
   "metadata": {},
   "source": [
    "trying to do kalman filtering just from simon's paper"
   ]
  },
  {
   "cell_type": "code",
   "execution_count": 5,
   "metadata": {},
   "outputs": [],
   "source": [
    "%%capture clear\n",
    "%pip install numpy\n",
    "%pip install matplotlib"
   ]
  },
  {
   "cell_type": "code",
   "execution_count": 4,
   "metadata": {},
   "outputs": [],
   "source": [
    "import numpy as np\n",
    "import matplotlib.pyplot as plt"
   ]
  },
  {
   "cell_type": "code",
   "execution_count": null,
   "metadata": {},
   "outputs": [],
   "source": [
    "x_axis = np.arange(-2,10,0.01)"
   ]
  },
  {
   "cell_type": "markdown",
   "metadata": {},
   "source": [
    "# Kalman Filtering\n",
    "\n",
    "* so we need to choose some noise say of covar 0.01 for both observation and target\n",
    "* lets also choose to do a system with two variables x1 and x2\n",
    "* ~~ lets also choose the dynamics of the system to be just a linear system say 0.5,0.5 ~~\n",
    "* timesteps of one second\n",
    "* we're also making all matricies and noise time invariant / constants to save some time"
   ]
  },
  {
   "cell_type": "code",
   "execution_count": 685,
   "metadata": {},
   "outputs": [],
   "source": [
    "# just gives our random vars for v and n sampled form standard norm\n",
    "#(then divided to make smaller)\n",
    "covar_q = np.array([0.1,0.1])# this could vary in time in this case it doesn't\n",
    "covar_r = np.array([0.1,0.1]) # same with this one\n",
    "def v_func()->list[float]:\n",
    "    return np.multiply(np.random.randn(2),covar_q)\n",
    "def n_func()->list[float]:\n",
    "    return np.multiply(np.random.randn(2),covar_r)\n",
    "\n",
    "def update_target(F : list[list[float]],\n",
    "       X : list[list[float]]\n",
    "       ) -> list[float]:\n",
    "    return (np.linalg.matmul(F,X[-1])+v_func())\n",
    "\n",
    "def update_observation(H : list[list[float]],\n",
    "                       X : list[list[float]]\n",
    "                       ) -> list[float]:\n",
    "    return np.matmul(H,X[-1])+n_func()\n"
   ]
  },
  {
   "cell_type": "markdown",
   "metadata": {},
   "source": [
    "ok so going off of this equation\n",
    "\n",
    "![images](images/Screenshot%20from%202024-10-14%2013-07-51.png)\n",
    "\n",
    "**btw P is a covar value**\n",
    "\n",
    "to the best of my knowledge for covar_k-1|k-1 we would want to use a list covar_k|k and sample the value from the previous time step to get the value we want "
   ]
  },
  {
   "cell_type": "code",
   "execution_count": 861,
   "metadata": {},
   "outputs": [
    {
     "name": "stdout",
     "output_type": "stream",
     "text": [
      "[array([[1, 0],\n",
      "       [0, 1]])]\n",
      "[1, 2]:[1, 2]:[[1 0]\n",
      " [0 1]]\n",
      "[2.94540344 1.98023142]:[2.88894435 2.13122139]:[[0.09166667 0.09166667]\n",
      " [0.09166667 0.09166667]]\n",
      "[5.03690271 1.88914462]:[5.25931718 2.14696957]:[[0.05 0.05]\n",
      " [0.05 0.05]]\n",
      "[6.95807615 1.87045201]:[7.31675064 1.98344707]:[[0.05 0.05]\n",
      " [0.05 0.05]]\n",
      "[8.80795574 1.95386693]:[8.94782849 1.83498838]:[[0.05 0.05]\n",
      " [0.05 0.05]]\n",
      "[10.78641714  1.94031202]:[10.89528255  1.89360049]:[[0.05 0.05]\n",
      " [0.05 0.05]]\n",
      "[12.66519344  1.96843448]:[12.68656872  1.85581908]:[[0.05 0.05]\n",
      " [0.05 0.05]]\n"
     ]
    }
   ],
   "source": [
    "# just gives our random vars for v and n sampled form standard norm\n",
    "#(then divided to make smaller)\n",
    "covar_q = np.array([0.1,0.1])# this could vary in time in this case it doesn't\n",
    "covar_r = np.array([0.1,0.1]) # same with this one\n",
    "def v_func()->list[float]:\n",
    "    return np.multiply(np.random.randn(2),covar_q)\n",
    "def n_func()->list[float]:\n",
    "    return np.multiply(np.random.randn(2),covar_r)\n",
    "\n",
    "def update_target(F : list[list[float]],\n",
    "       X : list[list[float]]\n",
    "       ) -> list[float]:\n",
    "    return (np.linalg.matmul(F,X[-1])+v_func())\n",
    "\n",
    "def update_observation(H : list[list[float]],\n",
    "                       X : list[list[float]]\n",
    "                       ) -> list[float]:\n",
    "    return np.matmul(H,X[-1])+n_func()\n",
    "\n",
    "\n",
    "time_step = np.arange(0,7,1)\n",
    "# define the dynamics of the system\n",
    "f_matrix = [[1,1],\n",
    "            [0,1]]\n",
    "# define the target matrix and its inistial positions\n",
    "target = [[1,2]]\n",
    "\n",
    "# to begin with lets have observations just be double the target\n",
    "# and have that be our observation\n",
    "h_matrix = [[1,0],\n",
    "            [0,1]]\n",
    "# just giving dummy vars to observations so that\n",
    "# its synced with the timestep of targets index 1 is timestep\n",
    "# one in both\n",
    "observations = [[0,0]]\n",
    "\n",
    "\n",
    "# this will be a mean x1,x2 and a covar value for each value for\n",
    "# each timestep\n",
    "m_k_k1 = []\n",
    "covar_k_k1 = []\n",
    "# needs to be initialised idk what to though\n",
    "# only somehting that need to be initialised at k=0\n",
    "# for the maths to work should be initialised at k=0\n",
    "# I think anyway\n",
    "\n",
    "# giving the actual covar vals probably too low if anythin\n",
    "covar_k_k = [np.array([[1,0],\n",
    "                        [0,1]])]\n",
    "print(covar_k_k)\n",
    "# just give the actual val at time 0 idk if, idk if this is the\n",
    "# right thing to do though\n",
    "m_k_k = [target[0]] \n",
    "\n",
    "f_matrix = np.array(f_matrix) # so i can use .T\n",
    "h_matrix = np.array(h_matrix) # so i can use .T\n",
    "\n",
    "# k1 is used to mean k-1\n",
    "# the underscore inbetween the two vars should be taken to mean\n",
    "# the pipe operator so given in stats\n",
    "\n",
    "for time in time_step[1:]:\n",
    "\n",
    "    target += [update_target(f_matrix,target)]\n",
    "    observations += [update_observation(h_matrix,target)]\n",
    "\n",
    "    m_k_k1 += [np.dot(f_matrix,m_k_k[-1])]\n",
    "    temp = np.dot(f_matrix,covar_k_k[-1])\n",
    "    covar_k_k1 += [covar_q + np.linalg.matmul(temp,f_matrix.T)]\n",
    "\n",
    "    temp = np.dot(h_matrix,np.array(covar_k_k1[-1]))\n",
    "    sk = np.dot(temp,h_matrix.T) +covar_r\n",
    "    temp = np.dot(covar_k_k1[-1],h_matrix.T)\n",
    "    sk_inv = np.linalg.inv(sk)\n",
    "    kalman_gain = np.dot(temp,sk_inv)\n",
    "\n",
    "    temp = observations[-1] - np.dot(h_matrix,m_k_k1[-1])\n",
    "    m_k_k += [m_k_k1[-1] + np.dot(kalman_gain,temp)]\n",
    "    temp = np.dot(kalman_gain,h_matrix)\n",
    "    covar_k_k += [covar_k_k1[-1] - np.dot(temp,covar_k_k1[-1])]\n",
    "\n",
    "\n",
    "for x,m,o,ck in zip(target,m_k_k,observations,covar_k_k):\n",
    "    #continue\n",
    "    print(f'{x}:{m}:{ck}')\n"
   ]
  },
  {
   "cell_type": "code",
   "execution_count": 862,
   "metadata": {},
   "outputs": [
    {
     "data": {
      "image/png": "[encoded data removed]",
      "text/plain": [
       "<Figure size 640x480 with 2 Axes>"
      ]
     },
     "metadata": {},
     "output_type": "display_data"
    }
   ],
   "source": [
    "m_k_k = np.array(m_k_k)\n",
    "covar_k_k = np.array(covar_k_k)\n",
    "target = np.array(target)\n",
    "# m_k_k[:,0] gives all x1 vals\n",
    "errors_x1 = [np.sqrt(cov[0][0])*2 for cov in covar_k_k]\n",
    "errors_x2 = [np.sqrt(cov[1][1])*2 for cov in covar_k_k]\n",
    "\n",
    "fig, ax = plt.subplots(2,1)\n",
    "\n",
    "ax[0].errorbar(time_step,m_k_k[:,0], yerr=errors_x1, fmt='o', label='Estimates with Error Bars', color='blue')\n",
    "    \n",
    "ax[0].scatter(time_step,target[:,0], color='red', label='Target', marker='o')\n",
    "\n",
    "# Set labels and title\n",
    "ax[0].set_xlabel('time')\n",
    "ax[0].set_ylabel('x1')\n",
    "ax[0].set_title('Kalman Filter X1')\n",
    "ax[0].legend()\n",
    "ax[0].grid()\n",
    "\n",
    "ax[1].errorbar(time_step,m_k_k[:,1], yerr=errors_x2, fmt='o', label='Estimates with Error Bars', color='blue')\n",
    "\n",
    "ax[1].scatter(time_step,target[:,1], color='red', label='Target', marker='o')\n",
    "\n",
    "# Set labels and title\n",
    "ax[1].set_xlabel('time')\n",
    "ax[1].set_ylabel('x2')\n",
    "ax[1].set_title('Kalman Filter X2')\n",
    "ax[1].legend()\n",
    "ax[1].grid()"
   ]
  },
  {
   "cell_type": "markdown",
   "metadata": {},
   "source": [
    "working now\n",
    "# takeaways\n",
    "* never use np.matmul use np.dot, np.matmul is for repeated addition so its for constant, matrix operations if you have two vectors you **need** to use np.dot otherwise you just get the wrong answer\n",
    "* also multivariate tracking means means multivariate covars why didn't i notice this????? if you have 2 vars you have a 2*2 covariance matrix for each point\n",
    "* its kind of obvious considering that ofc the uncertainties can be related to eachother, since the dynamics of the system allow for x1=a*x1+b*x2 if you want\n"
   ]
  }
 ],
 "metadata": {
  "kernelspec": {
   "display_name": ".venv",
   "language": "python",
   "name": "python3"
  },
  "language_info": {
   "codemirror_mode": {
    "name": "ipython",
    "version": 3
   },
   "file_extension": ".py",
   "mimetype": "text/x-python",
   "name": "python",
   "nbconvert_exporter": "python",
   "pygments_lexer": "ipython3",
   "version": "3.12.3"
  }
 },
 "nbformat": 4,
 "nbformat_minor": 2
}
