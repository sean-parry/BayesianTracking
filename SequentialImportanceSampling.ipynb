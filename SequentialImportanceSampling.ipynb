{
 "cells": [
  {
   "cell_type": "markdown",
   "metadata": {},
   "source": [
    "# Sequential Importance Sampling (SIS)\n",
    "\n",
    "heres an algorithm from a big book, Probabilistic Machine Learning Advanced Topics:\n",
    "\n",
    "![image](images/Screenshot%20from%202024-10-17%2013-54-06.png)"
   ]
  },
  {
   "cell_type": "markdown",
   "metadata": {},
   "source": [
    "Actually implement simons alg for static tracking first as it will be easier:\n",
    "\n",
    "![images](images/GreenMaskAlg1.png)\n",
    "![images](images/GreenMaskAlg2.png)"
   ]
  }
 ],
 "metadata": {
  "language_info": {
   "name": "python"
  }
 },
 "nbformat": 4,
 "nbformat_minor": 2
}
