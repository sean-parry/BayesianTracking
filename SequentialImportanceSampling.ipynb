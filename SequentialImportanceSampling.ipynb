{
 "cells": [
  {
   "cell_type": "markdown",
   "metadata": {},
   "source": [
    "# Sequential Importance Sampling (SIS)\n",
    "\n",
    "heres an algorithm from a big book, Probabilistic Machine Learning Advanced Topics:\n",
    "\n",
    "![image](images/Screenshot%20from%202024-10-17%2013-54-06.png)"
   ]
  },
  {
   "cell_type": "markdown",
   "metadata": {},
   "source": [
    "Actually implement simons alg for static tracking first as it will be easier:\n",
    "\n",
    "![images](images/GreenMaskAlg1.png)\n",
    "![images](images/GreenMaskAlg2.png)"
   ]
  },
  {
   "cell_type": "code",
   "execution_count": null,
   "metadata": {},
   "outputs": [],
   "source": [
    "%% capture output\n",
    "%pip install numpy\n",
    "%pip install matplotlib"
   ]
  },
  {
   "cell_type": "code",
   "execution_count": 1,
   "metadata": {},
   "outputs": [],
   "source": [
    "import numpy as np\n",
    "import matplotlib.pyplot as plt\n"
   ]
  },
  {
   "cell_type": "code",
   "execution_count": 119,
   "metadata": {},
   "outputs": [
    {
     "name": "stdout",
     "output_type": "stream",
     "text": [
      "[0.0190838  0.44057031 0.01072931 0.00366    0.04640961 0.01033663\n",
      " 0.37340956 0.00052974 0.09268698 0.00258406]\n",
      "[[0.0190838  0.44057031 0.01072931 0.00366    0.04640961 0.01033663\n",
      "  0.37340956 0.00052974 0.09268698 0.00258406]]\n",
      "[[1, 1, 1, 1, 1, 1, 1, 1, 1, 1]]\n",
      "[[1. 1. 1. 1. 1. 1. 1. 1. 1. 1.]]\n"
     ]
    },
    {
     "ename": "ValueError",
     "evalue": "non-broadcastable output operand with shape (1,10) doesn't match the broadcast shape (1,1,10)",
     "output_type": "error",
     "traceback": [
      "\u001b[0;31m---------------------------------------------------------------------------\u001b[0m",
      "\u001b[0;31mValueError\u001b[0m                                Traceback (most recent call last)",
      "Cell \u001b[0;32mIn[119], line 50\u001b[0m\n\u001b[1;32m     47\u001b[0m weights_unnormed \u001b[38;5;241m=\u001b[39m initial_weights(theta)\n\u001b[1;32m     49\u001b[0m \u001b[38;5;28;01mfor\u001b[39;00m i \u001b[38;5;129;01min\u001b[39;00m \u001b[38;5;28mrange\u001b[39m(\u001b[38;5;241m100\u001b[39m):\n\u001b[0;32m---> 50\u001b[0m     \u001b[43mweights_normed\u001b[49m\u001b[43m \u001b[49m\u001b[38;5;241;43m+\u001b[39;49m\u001b[38;5;241;43m=\u001b[39;49m\u001b[43m \u001b[49m\u001b[43m[\u001b[49m\u001b[43mnorm_weights\u001b[49m\u001b[43m(\u001b[49m\u001b[43mweights_unnormed\u001b[49m\u001b[43m[\u001b[49m\u001b[38;5;241;43m-\u001b[39;49m\u001b[38;5;241;43m1\u001b[39;49m\u001b[43m]\u001b[49m\u001b[43m)\u001b[49m\u001b[43m]\u001b[49m\n\u001b[1;32m     51\u001b[0m     Neff \u001b[38;5;241m=\u001b[39m get_neff(weights_normed[\u001b[38;5;241m-\u001b[39m\u001b[38;5;241m1\u001b[39m])\n\u001b[1;32m     52\u001b[0m     \u001b[38;5;28;01mif\u001b[39;00m Neff\u001b[38;5;241m<\u001b[39mn\u001b[38;5;241m/\u001b[39m\u001b[38;5;241m2\u001b[39m:\n",
      "\u001b[0;31mValueError\u001b[0m: non-broadcastable output operand with shape (1,10) doesn't match the broadcast shape (1,1,10)"
     ]
    }
   ],
   "source": [
    "def initial_theta(n):\n",
    "    return np.random.randn(n)+2\n",
    "\n",
    "def normal_dist(x,mu,sigma):\n",
    "    return (1/(sigma*(np.pi*2)**1/2))*np.e**(-0.5*((x-mu)/sigma)**2)\n",
    "\n",
    "def target_dist_p(x):\n",
    "    return normal_dist(x,5,0.5)\n",
    "\n",
    "def new_proposal(old_thetas):\n",
    "    return old_thetas+np.random.randn(len(old_thetas))\n",
    "\n",
    "def initial_weights(theta):\n",
    "    weights = []\n",
    "    for t in theta:\n",
    "        weights += [normal_dist(t,0,1)]\n",
    "    return weights\n",
    "\n",
    "def resample(t:list[float]):\n",
    "    n = len(t)\n",
    "    mu = sum(t)/n\n",
    "    return np.random.randn(n)+mu\n",
    "\n",
    "def norm_weights(w_un):\n",
    "    w_sum = sum(w_un)\n",
    "    weights = []\n",
    "    for w in w_un:\n",
    "        weights += [w/w_sum]\n",
    "    print(np.array(weights))\n",
    "    return weights\n",
    "\n",
    "def get_neff(weights):\n",
    "    squared_sum = 0\n",
    "    for w in weights:\n",
    "        squared_sum += w*w\n",
    "    return 1/squared_sum\n",
    "\n",
    "n = 10\n",
    "k = 1\n",
    "# the parallel samples are 1 to N in the paper\n",
    "# will be a k by n matrix by the end of the for loop\n",
    "theta = []\n",
    "weights_unnormed = []\n",
    "weights_normed = []\n",
    "\n",
    "theta += [initial_theta(n)]\n",
    "weights_unnormed = initial_weights(theta)\n",
    "\n",
    "for i in range(100):\n",
    "    weights_normed += [norm_weights(weights_unnormed[-1])]\n",
    "    Neff = get_neff(weights_normed[-1])\n",
    "    if Neff<n/2:\n",
    "        theta[-1] = [resample(theta[-1])]\n",
    "        weights_normed = np.array(weights_normed)\n",
    "        print(weights_normed)\n",
    "        weights_unnormed[-1] = [1]*len(weights_normed[-1])\n",
    "        print((weights_unnormed))\n",
    "    k+=1\n",
    "    theta+=[new_proposal(theta[-1])]\n",
    "    new_unnormed_weights = []\n",
    "    for w,t_old,t_new in zip(weights_unnormed[-1],theta[-2],theta[-1]):\n",
    "        new_unnormed_weights += [w*(target_dist_p(t_new)/target_dist_p(t_old))]\n",
    "    weights_unnormed += [new_unnormed_weights]\n",
    "\n",
    "theta_pred = [sum(t) for t in theta]\n",
    "\n",
    "plt.plot(theta_pred)\n",
    "\n"
   ]
  }
 ],
 "metadata": {
  "kernelspec": {
   "display_name": ".venv",
   "language": "python",
   "name": "python3"
  },
  "language_info": {
   "codemirror_mode": {
    "name": "ipython",
    "version": 3
   },
   "file_extension": ".py",
   "mimetype": "text/x-python",
   "name": "python",
   "nbconvert_exporter": "python",
   "pygments_lexer": "ipython3",
   "version": "3.12.3"
  }
 },
 "nbformat": 4,
 "nbformat_minor": 2
}
