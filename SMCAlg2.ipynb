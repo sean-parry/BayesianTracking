{
 "cells": [
  {
   "cell_type": "markdown",
   "metadata": {},
   "source": [
    "# PlGreen Maskell 2017\n",
    "\n",
    "## alg 2\n",
    "\n",
    "doing this will help with some of the notation in alg 3 the difference between alg 1 and 2 is negligible other than that might redo some of my fucntions to make them quicker tho and rename some stuff\n",
    "\n",
    "![images](images/GreenMaskAlgtwo.png)"
   ]
  },
  {
   "cell_type": "code",
   "execution_count": 1,
   "metadata": {},
   "outputs": [],
   "source": [
    "import numpy as np\n",
    "import matplotlib.pyplot as plt"
   ]
  },
  {
   "cell_type": "code",
   "execution_count": 41,
   "metadata": {},
   "outputs": [
    {
     "name": "stdout",
     "output_type": "stream",
     "text": [
      "this ans should be close to 5 if everything is correct.\n",
      "The value is: 4.865885606403019\n"
     ]
    }
   ],
   "source": [
    "def initial_theta(n):\n",
    "    return np.random.randn(n)\n",
    "\n",
    "def normal_dist(x,mu,var):\n",
    "    sigma = var**(1/2)\n",
    "    return (1/(sigma*(np.pi*2)**(1/2)))*np.e**(-0.5*((x-mu)/sigma)**2)\n",
    "\n",
    "def target_dist_p(x):\n",
    "    return normal_dist(x,5,var=0.5)\n",
    "\n",
    "def new_proposal(old_thetas):\n",
    "    return np.array(old_thetas+np.random.randn(len(old_thetas)))\n",
    "\n",
    "def initial_weights(theta):\n",
    "    weights = []\n",
    "    for t in theta:\n",
    "        weights.append(target_dist_p(t)/normal_dist(t,0,1))\n",
    "    return np.array(weights)\n",
    "\n",
    "def resample(curr_theta, weights):\n",
    "    new_theta = []\n",
    "    new_theta = np.random.choice(curr_theta,size = len(curr_theta), p=weights)\n",
    "    return np.array(new_theta)\n",
    "\n",
    "def norm_weights(w_un):\n",
    "    w_sum = sum(w_un)\n",
    "    weights = []\n",
    "    for w in w_un:\n",
    "        weights += [w/w_sum]\n",
    "    return np.array(weights)\n",
    "\n",
    "def get_neff(weights):\n",
    "    squared_sum = 0\n",
    "    for w in weights:\n",
    "        squared_sum += w*w\n",
    "    return 1/squared_sum\n",
    "\n",
    "def new_unnormed_weights(old_weights, curr_theta, old_theta):\n",
    "    weights = []\n",
    "    for w, t0, t1 in zip(old_weights, curr_theta, old_theta):\n",
    "        weights.append(w*(target_dist_p(t0)/target_dist_p(t1)))\n",
    "    return np.array(weights)\n",
    "\n",
    "theta, weights_unnormed, weights_normed, n = [], [], [], 100\n",
    "\n",
    "theta_hat, weights_hat = [], []\n",
    "\n",
    "theta = initial_theta(n)\n",
    "weights_unnormed = initial_weights(theta)\n",
    "\n",
    "for _ in range(100):\n",
    "    weights_normed = norm_weights(weights_unnormed)\n",
    "    neff = get_neff(weights_normed)\n",
    "    if neff<n/2:\n",
    "        theta = resample(theta,weights_normed)\n",
    "        weights_unnormed = [1]*(len(weights_unnormed))\n",
    "    theta_hat = new_proposal(theta)\n",
    "    weights_hat = new_unnormed_weights(weights_unnormed,theta_hat,theta)\n",
    "    weights_unnormed = weights_hat\n",
    "    theta = theta_hat\n",
    "\n",
    "print(f'this ans should be close to 5 if everything is correct.')\n",
    "print(f'The value is: {sum(np.multiply(theta,weights_normed))}')"
   ]
  },
  {
   "cell_type": "markdown",
   "metadata": {},
   "source": [
    "* Everyhting working properly, answers are close enough to 5 that the smc is most probably correct"
   ]
  }
 ],
 "metadata": {
  "kernelspec": {
   "display_name": ".venv",
   "language": "python",
   "name": "python3"
  },
  "language_info": {
   "codemirror_mode": {
    "name": "ipython",
    "version": 3
   },
   "file_extension": ".py",
   "mimetype": "text/x-python",
   "name": "python",
   "nbconvert_exporter": "python",
   "pygments_lexer": "ipython3",
   "version": "3.12.3"
  }
 },
 "nbformat": 4,
 "nbformat_minor": 2
}
