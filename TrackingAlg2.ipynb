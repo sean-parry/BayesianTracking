{
 "cells": [
  {
   "cell_type": "markdown",
   "metadata": {},
   "source": [
    "# Resampling Algorithm\n",
    "\n",
    "I just want ot check that this alg in the 'tutorial on particle filters for onlien nonlinear/non-gaussian bayesian tracking'  - ms arulampalam, maskell, is just weighted resapmling equiv to np.choice\n",
    "* I don't actually understand how the alg works so im just going to implement it and check the outputs agains np.choice\n"
   ]
  },
  {
   "cell_type": "code",
   "execution_count": null,
   "metadata": {},
   "outputs": [],
   "source": [
    "%%capture\n",
    "%pip install numpy\n",
    "%pip install matplotlib"
   ]
  },
  {
   "cell_type": "code",
   "execution_count": 1,
   "metadata": {},
   "outputs": [],
   "source": [
    "import numpy as np\n",
    "import matplotlib as plt"
   ]
  },
  {
   "cell_type": "code",
   "execution_count": 209,
   "metadata": {},
   "outputs": [
    {
     "name": "stdout",
     "output_type": "stream",
     "text": [
      "[2 0 1 ... 2 0 1]\n",
      "[0.29946667 0.19746667 0.50306667]\n"
     ]
    }
   ],
   "source": [
    "# works now this is literally just a way to do weighted resampling\n",
    "# i have no idea how this works though but if we take an average\n",
    "# then we can see that the probs are the same as the ones we put in\n",
    "\n",
    "def resampling_alg(samples,weights):\n",
    "    # i_arr = np.arange(1,len(samples)+1,1)\n",
    "    n = len(samples)\n",
    "    cdf = [0]\n",
    "    for i in range(0,n):\n",
    "        cdf.append(cdf[-1]+weights[i])\n",
    "\n",
    "    x_hat, w_hat, parent = [], [], []\n",
    "\n",
    "    i = 1\n",
    "    u_arr = [np.random.rand(1)[0]*1/n]\n",
    "    for j in range(0,n):\n",
    "        u_arr.append(u_arr[0]+(1/n)*(j-1))\n",
    "        i = 0\n",
    "        while u_arr[-1]>cdf[i]:\n",
    "            i += 1\n",
    "        x_hat.append(samples[i-1])\n",
    "        w_hat.append(1/n) # literally just applying a uniform dist\n",
    "        parent.append(i)\n",
    "\n",
    "    return x_hat, w_hat, parent\n",
    "\n",
    "samples = [0,1,2]\n",
    "weights = [0.3, 0.2, 0.5]\n",
    "\n",
    "big_x_array = []\n",
    "for i in range(10000):\n",
    "    x_hat, w_hat, parent = resampling_alg(samples,weights)\n",
    "    big_x_array.append(x_hat)\n",
    "\n",
    "big_x_array = np.array(big_x_array)\n",
    "big_x_array= big_x_array.flatten()\n",
    "print(big_x_array)\n",
    "\n",
    "n = len(big_x_array)\n",
    "count = [0, 0, 0]\n",
    "for x in big_x_array:\n",
    "    count[x] += 1\n",
    "\n",
    "count = np.array(count) / n\n",
    "print(count)\n",
    "\n",
    "\n",
    "\n",
    "\n",
    "\n",
    "\n"
   ]
  }
 ],
 "metadata": {
  "kernelspec": {
   "display_name": ".venv",
   "language": "python",
   "name": "python3"
  },
  "language_info": {
   "codemirror_mode": {
    "name": "ipython",
    "version": 3
   },
   "file_extension": ".py",
   "mimetype": "text/x-python",
   "name": "python",
   "nbconvert_exporter": "python",
   "pygments_lexer": "ipython3",
   "version": "3.12.3"
  }
 },
 "nbformat": 4,
 "nbformat_minor": 2
}
